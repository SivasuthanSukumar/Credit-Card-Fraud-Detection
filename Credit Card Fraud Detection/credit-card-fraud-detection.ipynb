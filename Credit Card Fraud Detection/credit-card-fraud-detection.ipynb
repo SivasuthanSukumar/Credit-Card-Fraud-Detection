{
 "cells": [
  {
   "cell_type": "code",
   "execution_count": 63,
   "metadata": {
    "execution": {
     "iopub.execute_input": "2023-10-04T10:03:09.468424Z",
     "iopub.status.busy": "2023-10-04T10:03:09.467062Z",
     "iopub.status.idle": "2023-10-04T10:03:09.475328Z",
     "shell.execute_reply": "2023-10-04T10:03:09.474043Z",
     "shell.execute_reply.started": "2023-10-04T10:03:09.468385Z"
    }
   },
   "outputs": [],
   "source": [
    "import numpy as np # linear algebra\n",
    "import pandas as pd\n",
    "import matplotlib.pyplot as plt\n",
    "import seaborn as sns\n",
    "from scipy import stats\n",
    "from sklearn.manifold import TSNE\n",
    "from sklearn.preprocessing import OrdinalEncoder, StandardScaler\n",
    "from sklearn.model_selection import train_test_split, StratifiedKFold, RepeatedKFold, RepeatedStratifiedKFold, GridSearchCV\n",
    "from sklearn.metrics import roc_auc_score, classification_report, confusion_matrix, ConfusionMatrixDisplay\n",
    "import warnings\n",
    "warnings.filterwarnings('ignore')\n"
   ]
  },
  {
   "cell_type": "code",
   "execution_count": 64,
   "metadata": {
    "execution": {
     "iopub.execute_input": "2023-10-04T10:03:09.478066Z",
     "iopub.status.busy": "2023-10-04T10:03:09.477431Z",
     "iopub.status.idle": "2023-10-04T10:03:13.025416Z",
     "shell.execute_reply": "2023-10-04T10:03:13.024444Z",
     "shell.execute_reply.started": "2023-10-04T10:03:09.478021Z"
    }
   },
   "outputs": [],
   "source": [
    "train=pd.read_csv('C:/Users/hp/Desktop/Projects/Credit Card Fraud Detection/DATA/train.csv')\n",
    "test=pd.read_csv('C:/Users/hp/Desktop/Projects/Credit Card Fraud Detection/DATA/test.csv')\n",
    "#sample_sub=pd.read_csv('C:/Users/hp/Desktop/Projects/Credit Card Fraud Detection/DATA/sample_submission.csv')"
   ]
  },
  {
   "cell_type": "code",
   "execution_count": 65,
   "metadata": {
    "execution": {
     "iopub.execute_input": "2023-10-04T10:03:13.027265Z",
     "iopub.status.busy": "2023-10-04T10:03:13.026940Z",
     "iopub.status.idle": "2023-10-04T10:03:13.053205Z",
     "shell.execute_reply": "2023-10-04T10:03:13.052150Z",
     "shell.execute_reply.started": "2023-10-04T10:03:13.027232Z"
    }
   },
   "outputs": [
    {
     "data": {
      "text/html": [
       "<div>\n",
       "<style scoped>\n",
       "    .dataframe tbody tr th:only-of-type {\n",
       "        vertical-align: middle;\n",
       "    }\n",
       "\n",
       "    .dataframe tbody tr th {\n",
       "        vertical-align: top;\n",
       "    }\n",
       "\n",
       "    .dataframe thead th {\n",
       "        text-align: right;\n",
       "    }\n",
       "</style>\n",
       "<table border=\"1\" class=\"dataframe\">\n",
       "  <thead>\n",
       "    <tr style=\"text-align: right;\">\n",
       "      <th></th>\n",
       "      <th>id</th>\n",
       "      <th>Time</th>\n",
       "      <th>V1</th>\n",
       "      <th>V2</th>\n",
       "      <th>V3</th>\n",
       "      <th>V4</th>\n",
       "      <th>V5</th>\n",
       "      <th>V6</th>\n",
       "      <th>V7</th>\n",
       "      <th>V8</th>\n",
       "      <th>...</th>\n",
       "      <th>V21</th>\n",
       "      <th>V22</th>\n",
       "      <th>V23</th>\n",
       "      <th>V24</th>\n",
       "      <th>V25</th>\n",
       "      <th>V26</th>\n",
       "      <th>V27</th>\n",
       "      <th>V28</th>\n",
       "      <th>Amount</th>\n",
       "      <th>Class</th>\n",
       "    </tr>\n",
       "  </thead>\n",
       "  <tbody>\n",
       "    <tr>\n",
       "      <th>0</th>\n",
       "      <td>0</td>\n",
       "      <td>0.0</td>\n",
       "      <td>2.074329</td>\n",
       "      <td>-0.129425</td>\n",
       "      <td>-1.137418</td>\n",
       "      <td>0.412846</td>\n",
       "      <td>-0.192638</td>\n",
       "      <td>-1.210144</td>\n",
       "      <td>0.110697</td>\n",
       "      <td>-0.263477</td>\n",
       "      <td>...</td>\n",
       "      <td>-0.334701</td>\n",
       "      <td>-0.887840</td>\n",
       "      <td>0.336701</td>\n",
       "      <td>-0.110835</td>\n",
       "      <td>-0.291459</td>\n",
       "      <td>0.207733</td>\n",
       "      <td>-0.076576</td>\n",
       "      <td>-0.059577</td>\n",
       "      <td>1.98</td>\n",
       "      <td>0</td>\n",
       "    </tr>\n",
       "    <tr>\n",
       "      <th>1</th>\n",
       "      <td>1</td>\n",
       "      <td>0.0</td>\n",
       "      <td>1.998827</td>\n",
       "      <td>-1.250891</td>\n",
       "      <td>-0.520969</td>\n",
       "      <td>-0.894539</td>\n",
       "      <td>-1.122528</td>\n",
       "      <td>-0.270866</td>\n",
       "      <td>-1.029289</td>\n",
       "      <td>0.050198</td>\n",
       "      <td>...</td>\n",
       "      <td>0.054848</td>\n",
       "      <td>-0.038367</td>\n",
       "      <td>0.133518</td>\n",
       "      <td>-0.461928</td>\n",
       "      <td>-0.465491</td>\n",
       "      <td>-0.464655</td>\n",
       "      <td>-0.009413</td>\n",
       "      <td>-0.038238</td>\n",
       "      <td>84.00</td>\n",
       "      <td>0</td>\n",
       "    </tr>\n",
       "    <tr>\n",
       "      <th>2</th>\n",
       "      <td>2</td>\n",
       "      <td>0.0</td>\n",
       "      <td>0.091535</td>\n",
       "      <td>1.004517</td>\n",
       "      <td>-0.223445</td>\n",
       "      <td>-0.435249</td>\n",
       "      <td>0.667548</td>\n",
       "      <td>-0.988351</td>\n",
       "      <td>0.948146</td>\n",
       "      <td>-0.084789</td>\n",
       "      <td>...</td>\n",
       "      <td>-0.326725</td>\n",
       "      <td>-0.803736</td>\n",
       "      <td>0.154495</td>\n",
       "      <td>0.951233</td>\n",
       "      <td>-0.506919</td>\n",
       "      <td>0.085046</td>\n",
       "      <td>0.224458</td>\n",
       "      <td>0.087356</td>\n",
       "      <td>2.69</td>\n",
       "      <td>0</td>\n",
       "    </tr>\n",
       "    <tr>\n",
       "      <th>3</th>\n",
       "      <td>3</td>\n",
       "      <td>0.0</td>\n",
       "      <td>1.979649</td>\n",
       "      <td>-0.184949</td>\n",
       "      <td>-1.064206</td>\n",
       "      <td>0.120125</td>\n",
       "      <td>-0.215238</td>\n",
       "      <td>-0.648829</td>\n",
       "      <td>-0.087826</td>\n",
       "      <td>-0.035367</td>\n",
       "      <td>...</td>\n",
       "      <td>-0.095514</td>\n",
       "      <td>-0.079792</td>\n",
       "      <td>0.167701</td>\n",
       "      <td>-0.042939</td>\n",
       "      <td>0.000799</td>\n",
       "      <td>-0.096148</td>\n",
       "      <td>-0.057780</td>\n",
       "      <td>-0.073839</td>\n",
       "      <td>1.00</td>\n",
       "      <td>0</td>\n",
       "    </tr>\n",
       "    <tr>\n",
       "      <th>4</th>\n",
       "      <td>4</td>\n",
       "      <td>0.0</td>\n",
       "      <td>1.025898</td>\n",
       "      <td>-0.171827</td>\n",
       "      <td>1.203717</td>\n",
       "      <td>1.243900</td>\n",
       "      <td>-0.636572</td>\n",
       "      <td>1.099074</td>\n",
       "      <td>-0.938651</td>\n",
       "      <td>0.569239</td>\n",
       "      <td>...</td>\n",
       "      <td>0.099157</td>\n",
       "      <td>0.608908</td>\n",
       "      <td>0.027901</td>\n",
       "      <td>-0.262813</td>\n",
       "      <td>0.257834</td>\n",
       "      <td>-0.252829</td>\n",
       "      <td>0.108338</td>\n",
       "      <td>0.021051</td>\n",
       "      <td>1.00</td>\n",
       "      <td>0</td>\n",
       "    </tr>\n",
       "  </tbody>\n",
       "</table>\n",
       "<p>5 rows × 32 columns</p>\n",
       "</div>"
      ],
      "text/plain": [
       "   id  Time        V1        V2        V3        V4        V5        V6  \\\n",
       "0   0   0.0  2.074329 -0.129425 -1.137418  0.412846 -0.192638 -1.210144   \n",
       "1   1   0.0  1.998827 -1.250891 -0.520969 -0.894539 -1.122528 -0.270866   \n",
       "2   2   0.0  0.091535  1.004517 -0.223445 -0.435249  0.667548 -0.988351   \n",
       "3   3   0.0  1.979649 -0.184949 -1.064206  0.120125 -0.215238 -0.648829   \n",
       "4   4   0.0  1.025898 -0.171827  1.203717  1.243900 -0.636572  1.099074   \n",
       "\n",
       "         V7        V8  ...       V21       V22       V23       V24       V25  \\\n",
       "0  0.110697 -0.263477  ... -0.334701 -0.887840  0.336701 -0.110835 -0.291459   \n",
       "1 -1.029289  0.050198  ...  0.054848 -0.038367  0.133518 -0.461928 -0.465491   \n",
       "2  0.948146 -0.084789  ... -0.326725 -0.803736  0.154495  0.951233 -0.506919   \n",
       "3 -0.087826 -0.035367  ... -0.095514 -0.079792  0.167701 -0.042939  0.000799   \n",
       "4 -0.938651  0.569239  ...  0.099157  0.608908  0.027901 -0.262813  0.257834   \n",
       "\n",
       "        V26       V27       V28  Amount  Class  \n",
       "0  0.207733 -0.076576 -0.059577    1.98      0  \n",
       "1 -0.464655 -0.009413 -0.038238   84.00      0  \n",
       "2  0.085046  0.224458  0.087356    2.69      0  \n",
       "3 -0.096148 -0.057780 -0.073839    1.00      0  \n",
       "4 -0.252829  0.108338  0.021051    1.00      0  \n",
       "\n",
       "[5 rows x 32 columns]"
      ]
     },
     "execution_count": 65,
     "metadata": {},
     "output_type": "execute_result"
    }
   ],
   "source": [
    "train.head()"
   ]
  },
  {
   "cell_type": "code",
   "execution_count": 66,
   "metadata": {
    "_kg_hide-input": true,
    "execution": {
     "iopub.execute_input": "2023-10-04T10:03:15.548585Z",
     "iopub.status.busy": "2023-10-04T10:03:15.547950Z",
     "iopub.status.idle": "2023-10-04T10:03:16.086277Z",
     "shell.execute_reply": "2023-10-04T10:03:16.085111Z",
     "shell.execute_reply.started": "2023-10-04T10:03:15.548548Z"
    }
   },
   "outputs": [
    {
     "data": {
      "text/html": [
       "<div>\n",
       "<style scoped>\n",
       "    .dataframe tbody tr th:only-of-type {\n",
       "        vertical-align: middle;\n",
       "    }\n",
       "\n",
       "    .dataframe tbody tr th {\n",
       "        vertical-align: top;\n",
       "    }\n",
       "\n",
       "    .dataframe thead th {\n",
       "        text-align: right;\n",
       "    }\n",
       "</style>\n",
       "<table border=\"1\" class=\"dataframe\">\n",
       "  <thead>\n",
       "    <tr style=\"text-align: right;\">\n",
       "      <th></th>\n",
       "      <th>id</th>\n",
       "      <th>Time</th>\n",
       "      <th>V1</th>\n",
       "      <th>V2</th>\n",
       "      <th>V3</th>\n",
       "      <th>V4</th>\n",
       "      <th>V5</th>\n",
       "      <th>V6</th>\n",
       "      <th>V7</th>\n",
       "      <th>V8</th>\n",
       "      <th>...</th>\n",
       "      <th>V23</th>\n",
       "      <th>V24</th>\n",
       "      <th>V25</th>\n",
       "      <th>V26</th>\n",
       "      <th>V27</th>\n",
       "      <th>V28</th>\n",
       "      <th>Amount</th>\n",
       "      <th>Class</th>\n",
       "      <th>Day</th>\n",
       "      <th>Hour</th>\n",
       "    </tr>\n",
       "  </thead>\n",
       "  <tbody>\n",
       "    <tr>\n",
       "      <th>0</th>\n",
       "      <td>0</td>\n",
       "      <td>0.0</td>\n",
       "      <td>2.074329</td>\n",
       "      <td>-0.129425</td>\n",
       "      <td>-1.137418</td>\n",
       "      <td>0.412846</td>\n",
       "      <td>-0.192638</td>\n",
       "      <td>-1.210144</td>\n",
       "      <td>0.110697</td>\n",
       "      <td>-0.263477</td>\n",
       "      <td>...</td>\n",
       "      <td>0.336701</td>\n",
       "      <td>-0.110835</td>\n",
       "      <td>-0.291459</td>\n",
       "      <td>0.207733</td>\n",
       "      <td>-0.076576</td>\n",
       "      <td>-0.059577</td>\n",
       "      <td>1.98</td>\n",
       "      <td>0</td>\n",
       "      <td>1</td>\n",
       "      <td>1.0</td>\n",
       "    </tr>\n",
       "    <tr>\n",
       "      <th>1</th>\n",
       "      <td>1</td>\n",
       "      <td>0.0</td>\n",
       "      <td>1.998827</td>\n",
       "      <td>-1.250891</td>\n",
       "      <td>-0.520969</td>\n",
       "      <td>-0.894539</td>\n",
       "      <td>-1.122528</td>\n",
       "      <td>-0.270866</td>\n",
       "      <td>-1.029289</td>\n",
       "      <td>0.050198</td>\n",
       "      <td>...</td>\n",
       "      <td>0.133518</td>\n",
       "      <td>-0.461928</td>\n",
       "      <td>-0.465491</td>\n",
       "      <td>-0.464655</td>\n",
       "      <td>-0.009413</td>\n",
       "      <td>-0.038238</td>\n",
       "      <td>84.00</td>\n",
       "      <td>0</td>\n",
       "      <td>1</td>\n",
       "      <td>1.0</td>\n",
       "    </tr>\n",
       "    <tr>\n",
       "      <th>2</th>\n",
       "      <td>2</td>\n",
       "      <td>0.0</td>\n",
       "      <td>0.091535</td>\n",
       "      <td>1.004517</td>\n",
       "      <td>-0.223445</td>\n",
       "      <td>-0.435249</td>\n",
       "      <td>0.667548</td>\n",
       "      <td>-0.988351</td>\n",
       "      <td>0.948146</td>\n",
       "      <td>-0.084789</td>\n",
       "      <td>...</td>\n",
       "      <td>0.154495</td>\n",
       "      <td>0.951233</td>\n",
       "      <td>-0.506919</td>\n",
       "      <td>0.085046</td>\n",
       "      <td>0.224458</td>\n",
       "      <td>0.087356</td>\n",
       "      <td>2.69</td>\n",
       "      <td>0</td>\n",
       "      <td>1</td>\n",
       "      <td>1.0</td>\n",
       "    </tr>\n",
       "    <tr>\n",
       "      <th>3</th>\n",
       "      <td>3</td>\n",
       "      <td>0.0</td>\n",
       "      <td>1.979649</td>\n",
       "      <td>-0.184949</td>\n",
       "      <td>-1.064206</td>\n",
       "      <td>0.120125</td>\n",
       "      <td>-0.215238</td>\n",
       "      <td>-0.648829</td>\n",
       "      <td>-0.087826</td>\n",
       "      <td>-0.035367</td>\n",
       "      <td>...</td>\n",
       "      <td>0.167701</td>\n",
       "      <td>-0.042939</td>\n",
       "      <td>0.000799</td>\n",
       "      <td>-0.096148</td>\n",
       "      <td>-0.057780</td>\n",
       "      <td>-0.073839</td>\n",
       "      <td>1.00</td>\n",
       "      <td>0</td>\n",
       "      <td>1</td>\n",
       "      <td>1.0</td>\n",
       "    </tr>\n",
       "    <tr>\n",
       "      <th>4</th>\n",
       "      <td>4</td>\n",
       "      <td>0.0</td>\n",
       "      <td>1.025898</td>\n",
       "      <td>-0.171827</td>\n",
       "      <td>1.203717</td>\n",
       "      <td>1.243900</td>\n",
       "      <td>-0.636572</td>\n",
       "      <td>1.099074</td>\n",
       "      <td>-0.938651</td>\n",
       "      <td>0.569239</td>\n",
       "      <td>...</td>\n",
       "      <td>0.027901</td>\n",
       "      <td>-0.262813</td>\n",
       "      <td>0.257834</td>\n",
       "      <td>-0.252829</td>\n",
       "      <td>0.108338</td>\n",
       "      <td>0.021051</td>\n",
       "      <td>1.00</td>\n",
       "      <td>0</td>\n",
       "      <td>1</td>\n",
       "      <td>1.0</td>\n",
       "    </tr>\n",
       "  </tbody>\n",
       "</table>\n",
       "<p>5 rows × 34 columns</p>\n",
       "</div>"
      ],
      "text/plain": [
       "   id  Time        V1        V2        V3        V4        V5        V6  \\\n",
       "0   0   0.0  2.074329 -0.129425 -1.137418  0.412846 -0.192638 -1.210144   \n",
       "1   1   0.0  1.998827 -1.250891 -0.520969 -0.894539 -1.122528 -0.270866   \n",
       "2   2   0.0  0.091535  1.004517 -0.223445 -0.435249  0.667548 -0.988351   \n",
       "3   3   0.0  1.979649 -0.184949 -1.064206  0.120125 -0.215238 -0.648829   \n",
       "4   4   0.0  1.025898 -0.171827  1.203717  1.243900 -0.636572  1.099074   \n",
       "\n",
       "         V7        V8  ...       V23       V24       V25       V26       V27  \\\n",
       "0  0.110697 -0.263477  ...  0.336701 -0.110835 -0.291459  0.207733 -0.076576   \n",
       "1 -1.029289  0.050198  ...  0.133518 -0.461928 -0.465491 -0.464655 -0.009413   \n",
       "2  0.948146 -0.084789  ...  0.154495  0.951233 -0.506919  0.085046  0.224458   \n",
       "3 -0.087826 -0.035367  ...  0.167701 -0.042939  0.000799 -0.096148 -0.057780   \n",
       "4 -0.938651  0.569239  ...  0.027901 -0.262813  0.257834 -0.252829  0.108338   \n",
       "\n",
       "        V28  Amount  Class  Day  Hour  \n",
       "0 -0.059577    1.98      0    1   1.0  \n",
       "1 -0.038238   84.00      0    1   1.0  \n",
       "2  0.087356    2.69      0    1   1.0  \n",
       "3 -0.073839    1.00      0    1   1.0  \n",
       "4  0.021051    1.00      0    1   1.0  \n",
       "\n",
       "[5 rows x 34 columns]"
      ]
     },
     "execution_count": 66,
     "metadata": {},
     "output_type": "execute_result"
    }
   ],
   "source": [
    "seconds_per_day = 3600*24\n",
    "train[\"Day\"] = train[\"Time\"].apply(lambda x: 1 if x<seconds_per_day else 2)\n",
    "train[\"Hour\"] = train[\"Time\"].apply(lambda x: (x%seconds_per_day)//3600 + 1)\n",
    "test[\"Day\"] = test[\"Time\"].apply(lambda x: 1 if x<seconds_per_day else 2)\n",
    "test[\"Hour\"] = test[\"Time\"].apply(lambda x: (x%seconds_per_day)//3600 + 1)\n",
    "train.head()"
   ]
  },
  {
   "cell_type": "code",
   "execution_count": 67,
   "metadata": {
    "execution": {
     "iopub.execute_input": "2023-10-04T10:03:16.176917Z",
     "iopub.status.busy": "2023-10-04T10:03:16.175947Z",
     "iopub.status.idle": "2023-10-04T10:03:17.743051Z",
     "shell.execute_reply": "2023-10-04T10:03:17.742030Z",
     "shell.execute_reply.started": "2023-10-04T10:03:16.176880Z"
    }
   },
   "outputs": [],
   "source": [
    "a=train.corr().abs()>0.3"
   ]
  },
  {
   "cell_type": "code",
   "execution_count": 68,
   "metadata": {
    "execution": {
     "iopub.execute_input": "2023-10-04T10:03:17.747242Z",
     "iopub.status.busy": "2023-10-04T10:03:17.746932Z",
     "iopub.status.idle": "2023-10-04T10:03:18.393140Z",
     "shell.execute_reply": "2023-10-04T10:03:18.392129Z",
     "shell.execute_reply.started": "2023-10-04T10:03:17.747218Z"
    }
   },
   "outputs": [
    {
     "data": {
      "text/plain": [
       "<Axes: >"
      ]
     },
     "execution_count": 68,
     "metadata": {},
     "output_type": "execute_result"
    },
    {
     "data": {
      "image/png": "[encoded data removed]",
      "text/plain": [
       "<Figure size 640x480 with 2 Axes>"
      ]
     },
     "metadata": {},
     "output_type": "display_data"
    }
   ],
   "source": [
    "sns.heatmap(a)"
   ]
  },
  {
   "cell_type": "code",
   "execution_count": 69,
   "metadata": {
    "execution": {
     "iopub.execute_input": "2023-10-04T10:03:18.395375Z",
     "iopub.status.busy": "2023-10-04T10:03:18.394474Z",
     "iopub.status.idle": "2023-10-04T10:03:20.437324Z",
     "shell.execute_reply": "2023-10-04T10:03:20.436319Z",
     "shell.execute_reply.started": "2023-10-04T10:03:18.395342Z"
    }
   },
   "outputs": [
    {
     "data": {
      "image/png": "[encoded data removed]",
      "text/plain": [
       "<Figure size 1500x800 with 1 Axes>"
      ]
     },
     "metadata": {},
     "output_type": "display_data"
    }
   ],
   "source": [
    "df=train\n",
    "plt.figure(figsize=(15,8))\n",
    "d = df.corr()['Class'][:-1].abs().sort_values().plot(kind='bar', title='Most important features')\n",
    "\n",
    "plt.show()"
   ]
  },
  {
   "cell_type": "code",
   "execution_count": null,
   "metadata": {
    "execution": {
     "iopub.execute_input": "2023-10-04T10:03:20.439991Z",
     "iopub.status.busy": "2023-10-04T10:03:20.439191Z",
     "iopub.status.idle": "2023-10-04T10:03:23.383633Z",
     "shell.execute_reply": "2023-10-04T10:03:23.382745Z",
     "shell.execute_reply.started": "2023-10-04T10:03:20.439954Z"
    }
   },
   "outputs": [],
   "source": [
    "fig, axes = plt.subplots(nrows=3, ncols=3,figsize=(13,8))\n",
    "\n",
    "axes[0,0].hist(df['V17'], bins=60, linewidth=0.5, edgecolor=\"white\")\n",
    "axes[0,0].set_title(\"V17 distribution\");\n",
    "\n",
    "axes[0,1].hist(df['V10'], bins=60, linewidth=0.5, edgecolor=\"white\")\n",
    "axes[0,1].set_title(\"V10 distribution\");\n",
    "\n",
    "axes[0,2].hist(df['V12'], bins=60, linewidth=0.5, edgecolor=\"white\")\n",
    "axes[0,2].set_title(\"V12 distribution\");\n",
    "\n",
    "axes[1,0].hist(df['V16'], bins=60, linewidth=0.5, edgecolor=\"white\")\n",
    "axes[1,0].set_title(\"V16 distribution\");\n",
    "\n",
    "axes[1,1].hist(df['V14'], bins=60, linewidth=0.5, edgecolor=\"white\")\n",
    "axes[1,1].set_title(\"V14 distribution\");\n",
    "\n",
    "axes[1,2].hist(df['V3'], bins=60, linewidth=0.5, edgecolor=\"white\")\n",
    "axes[1,2].set_title(\"V3 distribution\");\n",
    "\n",
    "axes[2,0].hist(df['V7'], bins=60, linewidth=0.5, edgecolor=\"white\")\n",
    "axes[2,0].set_title(\"V7 distribution\");\n",
    "\n",
    "axes[2,1].hist(df['V11'], bins=60, linewidth=0.5, edgecolor=\"white\")\n",
    "axes[2,1].set_title(\"V11 distribution\");\n",
    "\n",
    "axes[2,2].hist(df['V4'], bins=60, linewidth=0.5, edgecolor=\"white\")\n",
    "axes[2,2].set_title(\"V4 distribution\");\n",
    "\n",
    "plt.tight_layout()"
   ]
  },
  {
   "cell_type": "code",
   "execution_count": null,
   "metadata": {
    "execution": {
     "iopub.execute_input": "2023-10-04T10:03:23.385928Z",
     "iopub.status.busy": "2023-10-04T10:03:23.385284Z",
     "iopub.status.idle": "2023-10-04T10:03:48.688141Z",
     "shell.execute_reply": "2023-10-04T10:03:48.687104Z",
     "shell.execute_reply.started": "2023-10-04T10:03:23.385896Z"
    }
   },
   "outputs": [],
   "source": [
    "sns.jointplot(x='V17', y='V14',hue='Class', data=df, palette = 'dark')"
   ]
  },
  {
   "cell_type": "code",
   "execution_count": null,
   "metadata": {
    "execution": {
     "iopub.execute_input": "2023-10-04T10:03:48.690331Z",
     "iopub.status.busy": "2023-10-04T10:03:48.689740Z",
     "iopub.status.idle": "2023-10-04T10:04:10.252563Z",
     "shell.execute_reply": "2023-10-04T10:04:10.251618Z",
     "shell.execute_reply.started": "2023-10-04T10:03:48.690296Z"
    }
   },
   "outputs": [],
   "source": [
    "sns.jointplot(x='V17', y='V12',hue='Class', data=df, palette = 'dark')"
   ]
  },
  {
   "cell_type": "code",
   "execution_count": null,
   "metadata": {
    "execution": {
     "iopub.execute_input": "2023-10-04T10:04:10.311424Z",
     "iopub.status.busy": "2023-10-04T10:04:10.310386Z",
     "iopub.status.idle": "2023-10-04T10:04:10.352131Z",
     "shell.execute_reply": "2023-10-04T10:04:10.351017Z",
     "shell.execute_reply.started": "2023-10-04T10:04:10.311390Z"
    }
   },
   "outputs": [],
   "source": [
    "train.drop('id',axis=1,inplace=True)\n",
    "test.drop('id',axis=1,inplace=True)"
   ]
  },
  {
   "cell_type": "code",
   "execution_count": null,
   "metadata": {
    "execution": {
     "iopub.execute_input": "2023-10-04T10:04:10.354145Z",
     "iopub.status.busy": "2023-10-04T10:04:10.353537Z",
     "iopub.status.idle": "2023-10-04T10:04:10.549518Z",
     "shell.execute_reply": "2023-10-04T10:04:10.548502Z",
     "shell.execute_reply.started": "2023-10-04T10:04:10.354110Z"
    }
   },
   "outputs": [],
   "source": [
    "y = train['Class']\n",
    "X = train.drop('Class', axis=1)\n",
    "\n",
    "\n",
    "sc = StandardScaler()\n",
    "X = pd.DataFrame(sc.fit_transform(X.values), columns=X.columns, index=X.index)\n",
    "test = pd.DataFrame(sc.transform(test.values), columns=test.columns, index=test.index)\n"
   ]
  },
  {
   "cell_type": "code",
   "execution_count": null,
   "metadata": {
    "execution": {
     "iopub.execute_input": "2023-10-04T10:04:30.200389Z",
     "iopub.status.busy": "2023-10-04T10:04:30.199807Z",
     "iopub.status.idle": "2023-10-04T10:04:44.194757Z",
     "shell.execute_reply": "2023-10-04T10:04:44.193562Z",
     "shell.execute_reply.started": "2023-10-04T10:04:30.200353Z"
    }
   },
   "outputs": [],
   "source": [
    "#Neural network\n",
    "\n",
    "import tensorflow as tf\n",
    "from sklearn.model_selection import train_test_split\n",
    "from sklearn.metrics import roc_auc_score\n",
    "\n",
    "# Split the data into training (80%) and validation (20%) sets\n",
    "X_train, X_valid, y_train, y_valid = train_test_split(X, y, test_size=0.2, random_state=42)\n",
    "\n",
    "# Define the neural network architecture\n",
    "model = tf.keras.Sequential([\n",
    "    tf.keras.layers.Dense(25, activation='relu', input_shape=(X_train.shape[1],)),\n",
    "    tf.keras.layers.Dense(15, activation='relu'),\n",
    "    tf.keras.layers.Dense(8, activation='relu'),\n",
    "    tf.keras.layers.Dense(3, activation='relu'),\n",
    "    tf.keras.layers.Dense(1, activation='sigmoid')  # Output layer with 1 neuron and sigmoid activation\n",
    "])\n",
    "\n",
    "# Compile the model\n",
    "model.compile(optimizer='adam', loss='binary_crossentropy')\n",
    "\n",
    "# Train the model\n",
    "model.fit(X_train, y_train, epochs=10, batch_size=32, validation_data=(X_valid, y_valid))\n",
    "\n",
    "# Predict on the validation set\n",
    "y_pred = model.predict(X_valid)\n",
    "\n",
    "# Calculate the AUC score for the validation set\n",
    "auc = roc_auc_score(y_valid, y_pred)\n",
    "print(f\"AUC score: {auc:.2f}\")\n"
   ]
  },
  {
   "cell_type": "code",
   "execution_count": null,
   "metadata": {
    "execution": {
     "iopub.execute_input": "2023-10-04T10:04:44.197310Z",
     "iopub.status.busy": "2023-10-04T10:04:44.196253Z",
     "iopub.status.idle": "2023-10-04T10:14:08.008058Z",
     "shell.execute_reply": "2023-10-04T10:14:08.006936Z",
     "shell.execute_reply.started": "2023-10-04T10:04:44.197273Z"
    }
   },
   "outputs": [],
   "source": [
    "#RandomForest\n",
    "\n",
    "from sklearn.model_selection import train_test_split\n",
    "from sklearn.ensemble import RandomForestClassifier\n",
    "from sklearn.metrics import roc_auc_score\n",
    "\n",
    "# Split the data into training (80%) and validation (20%) sets\n",
    "X_train, X_valid, y_train, y_valid = train_test_split(X, y, test_size=0.2, random_state=42)\n",
    "\n",
    "rf_params = {\n",
    "    'n_estimators': 200,          # Number of trees in the forest\n",
    "    'min_samples_split': 5,      # Minimum number of samples required to split an internal node\n",
    "    'min_samples_leaf': 2,       # Minimum number of samples required to be at a leaf node\n",
    "    'max_depth': None,           # Maximum depth of the tree (None means no limit)\n",
    "    'max_features': 'auto',      # Number of features to consider when looking for the best split\n",
    "    'random_state': 42\n",
    "}\n",
    "\n",
    "# Create and train the RandomForest model\n",
    "rf_model = RandomForestClassifier(**rf_params)\n",
    "rf_model.fit(X_train, y_train)\n",
    "\n",
    "# Predict on the validation set\n",
    "y_pred = rf_model.predict_proba(X_valid)[:, 1]\n",
    "\n",
    "# Calculate the AUC score for the validation set\n",
    "auc = roc_auc_score(y_valid, y_pred)\n",
    "print(f\"AUC score: {auc:.2f}\")\n"
   ]
  },
  {
   "cell_type": "code",
   "execution_count": null,
   "metadata": {
    "execution": {
     "iopub.execute_input": "2023-10-04T10:14:08.010361Z",
     "iopub.status.busy": "2023-10-04T10:14:08.009733Z",
     "iopub.status.idle": "2023-10-04T10:14:13.263840Z",
     "shell.execute_reply": "2023-10-04T10:14:13.262762Z",
     "shell.execute_reply.started": "2023-10-04T10:14:08.010324Z"
    }
   },
   "outputs": [],
   "source": [
    "#Decision Tree\n",
    "\n",
    "from sklearn.tree import DecisionTreeClassifier\n",
    "from sklearn.metrics import roc_auc_score\n",
    "from sklearn.model_selection import StratifiedKFold\n",
    "import numpy as np\n",
    "\n",
    "# Define Decision Tree Classifier parameters\n",
    "dt_params = {\n",
    "    'max_depth': 7,\n",
    "    'min_samples_split': 96,\n",
    "    'min_samples_leaf': 1,\n",
    "    'max_features': 'auto',\n",
    "    'random_state': 42\n",
    "}\n",
    "\n",
    "dt_scores = []\n",
    "\n",
    "kf = StratifiedKFold(n_splits=5, shuffle=True, random_state=42)\n",
    "for fold, (train_idx, valid_idx) in enumerate(kf.split(X, y)):\n",
    "    X_train, X_valid = X.iloc[train_idx], X.iloc[valid_idx]\n",
    "    y_train , y_valid = y.iloc[train_idx] , y.iloc[valid_idx]\n",
    "    \n",
    "    dt_model = DecisionTreeClassifier(**dt_params)\n",
    "    dt_model.fit(X_train, y_train)\n",
    "    \n",
    "    y_pred = dt_model.predict_proba(X_valid)[:, 1]\n",
    "    auc = roc_auc_score(y_valid, y_pred)\n",
    "    dt_scores.append(auc)\n",
    "    \n",
    "    print(115*'-')\n",
    "    print(f\"\\nFold: {fold+1}, AUC score: {auc:.2f}\\n\")\n",
    "    print(115*'-')\n",
    "\n",
    "print(\"Mean AUC:\", np.mean(dt_scores))\n"
   ]
  },
  {
   "cell_type": "code",
   "execution_count": null,
   "metadata": {
    "execution": {
     "iopub.execute_input": "2023-10-04T10:14:13.266328Z",
     "iopub.status.busy": "2023-10-04T10:14:13.265570Z",
     "iopub.status.idle": "2023-10-04T10:16:08.545154Z",
     "shell.execute_reply": "2023-10-04T10:16:08.544067Z",
     "shell.execute_reply.started": "2023-10-04T10:14:13.266288Z"
    }
   },
   "outputs": [],
   "source": [
    "#Naive Bayes classifier\n",
    "\n",
    "from sklearn.model_selection import train_test_split\n",
    "from sklearn.naive_bayes import GaussianNB\n",
    "from sklearn.metrics import roc_auc_score\n",
    "\n",
    "# Split the data into training (80%) and validation (20%) sets\n",
    "X_train, X_valid, y_train, y_valid = train_test_split(X, y, test_size=0.2, random_state=42)\n",
    "\n",
    "# Create and train the Gaussian Naive Bayes model\n",
    "nb_model = GaussianNB()\n",
    "nb_model.fit(X_train, y_train)\n",
    "\n",
    "# Predict on the validation set\n",
    "y_pred_prob = nb_model.predict_proba(X_valid)[:, 1]\n",
    "\n",
    "# Calculate the AUC score for the validation set\n",
    "auc = roc_auc_score(y_valid, y_pred_prob)\n",
    "print(f\"AUC score: {auc:.2f}\")\n"
   ]
  },
  {
   "cell_type": "code",
   "execution_count": null,
   "metadata": {
    "execution": {
     "iopub.execute_input": "2023-10-04T10:16:09.252629Z",
     "iopub.status.busy": "2023-10-04T10:16:09.251310Z",
     "iopub.status.idle": "2023-10-04T10:16:09.577412Z",
     "shell.execute_reply": "2023-10-04T10:16:09.576072Z",
     "shell.execute_reply.started": "2023-10-04T10:16:09.252591Z"
    }
   },
   "outputs": [],
   "source": [
    "sample_sub.to_csv('Result.csv',index=False)"
   ]
  },
  {
   "cell_type": "code",
   "execution_count": null,
   "metadata": {},
   "outputs": [],
   "source": []
  },
  {
   "cell_type": "code",
   "execution_count": null,
   "metadata": {},
   "outputs": [],
   "source": []
  },
  {
   "cell_type": "code",
   "execution_count": null,
   "metadata": {},
   "outputs": [],
   "source": []
  },
  {
   "cell_type": "code",
   "execution_count": null,
   "metadata": {},
   "outputs": [],
   "source": []
  }
 ],
 "metadata": {
  "kernelspec": {
   "display_name": "Python 3 (ipykernel)",
   "language": "python",
   "name": "python3"
  },
  "language_info": {
   "codemirror_mode": {
    "name": "ipython",
    "version": 3
   },
   "file_extension": ".py",
   "mimetype": "text/x-python",
   "name": "python",
   "nbconvert_exporter": "python",
   "pygments_lexer": "ipython3",
   "version": "3.11.4"
  }
 },
 "nbformat": 4,
 "nbformat_minor": 4
}
